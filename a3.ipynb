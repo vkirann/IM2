{
 "cells": [
  {
   "attachments": {},
   "cell_type": "markdown",
   "metadata": {},
   "source": [
    "SIMPLE INTEREST"
   ]
  },
  {
   "cell_type": "code",
   "execution_count": 17,
   "metadata": {},
   "outputs": [
    {
     "name": "stdout",
     "output_type": "stream",
     "text": [
      "principal amount 10.0\n",
      "time period 15.0\n",
      "rate of interest 20.0\n",
      "30.0\n"
     ]
    }
   ],
   "source": [
    "def simple_interest():\n",
    "    P=float(input(\"enter principal amount\"))\n",
    "    print(\"principal amount\",P)\n",
    "    T=float(input(\"enter time\"))\n",
    "    print(\"time period\",T)\n",
    "    R=float(input(\"enter rate of interest\"))\n",
    "    print(\"rate of interest\",R)\n",
    "    SI=(P*T*R)/100\n",
    "    return SI\n",
    "\n",
    "result=simple_interest()\n",
    "print(result)"
   ]
  },
  {
   "attachments": {},
   "cell_type": "markdown",
   "metadata": {},
   "source": [
    "COMPOUND INTEREST"
   ]
  },
  {
   "cell_type": "code",
   "execution_count": 31,
   "metadata": {},
   "outputs": [
    {
     "name": "stdout",
     "output_type": "stream",
     "text": [
      "principal amount 10.0\n",
      "timme period 20.0\n",
      "rate of interest 30.0\n",
      "1890.4963774880812\n"
     ]
    }
   ],
   "source": [
    "def compound_interest():\n",
    "    P=float(input(\"enter the principal amount\"))\n",
    "    print(\"principal amount\",P)\n",
    "    T=float(input(\"enter time period\"))\n",
    "    print(\"timme period\",T)\n",
    "    R=float(input(\"enter rate of interest\"))\n",
    "    print(\"rate of interest\",R)\n",
    "    A=P*(1+(R/100))**T\n",
    "    compound_interest=A-P\n",
    "    return compound_interest\n",
    "\n",
    "\n",
    "result=compound_interest()\n",
    "print(result)\n",
    "    \n",
    "\n",
    "\n"
   ]
  }
 ],
 "metadata": {
  "kernelspec": {
   "display_name": "Python 3",
   "language": "python",
   "name": "python3"
  },
  "language_info": {
   "codemirror_mode": {
    "name": "ipython",
    "version": 3
   },
   "file_extension": ".py",
   "mimetype": "text/x-python",
   "name": "python",
   "nbconvert_exporter": "python",
   "pygments_lexer": "ipython3",
   "version": "3.10.4"
  },
  "orig_nbformat": 4
 },
 "nbformat": 4,
 "nbformat_minor": 2
}
